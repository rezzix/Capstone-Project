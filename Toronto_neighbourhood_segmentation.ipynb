{
  "nbformat": 4,
  "nbformat_minor": 0,
  "metadata": {
    "colab": {
      "name": "Toronto_neighbourhood_segmentation.ipynb",
      "provenance": [],
      "authorship_tag": "ABX9TyNu0LLj9HZhZsOaAQwZxT5+",
      "include_colab_link": true
    },
    "kernelspec": {
      "name": "python3",
      "display_name": "Python 3"
    }
  },
  "cells": [
    {
      "cell_type": "markdown",
      "metadata": {
        "id": "view-in-github",
        "colab_type": "text"
      },
      "source": [
        "<a href=\"https://colab.research.google.com/github/rezzix/Capstone-Project/blob/master/Toronto_neighbourhood_segmentation.ipynb\" target=\"_parent\"><img src=\"https://colab.research.google.com/assets/colab-badge.svg\" alt=\"Open In Colab\"/></a>"
      ]
    },
    {
      "cell_type": "markdown",
      "metadata": {
        "id": "IOBZmW-kNUaJ",
        "colab_type": "text"
      },
      "source": [
        "# Segmenting and Clustering Neighborhoods in Toronto"
      ]
    },
    {
      "cell_type": "markdown",
      "metadata": {
        "id": "FpJcyhDuxsv2",
        "colab_type": "text"
      },
      "source": [
        "### install useful modules"
      ]
    },
    {
      "cell_type": "code",
      "metadata": {
        "id": "EmlasEeqZfKg",
        "colab_type": "code",
        "colab": {
          "base_uri": "https://localhost:8080/",
          "height": 408
        },
        "outputId": "647697bd-3e6e-47cc-dfb4-291985f00eab"
      },
      "source": [
        "# beautiful soup for web scrapping\n",
        "!pip install beautifulsoup4\n",
        "# geocoder for geolocalisation\n",
        "!pip install geocoder\n",
        "# folium for map rendering\n",
        "!pip install folium"
      ],
      "execution_count": 10,
      "outputs": [
        {
          "output_type": "stream",
          "text": [
            "Requirement already satisfied: beautifulsoup4 in /usr/local/lib/python3.6/dist-packages (4.6.3)\n",
            "Requirement already satisfied: geocoder in /usr/local/lib/python3.6/dist-packages (1.38.1)\n",
            "Requirement already satisfied: requests in /usr/local/lib/python3.6/dist-packages (from geocoder) (2.23.0)\n",
            "Requirement already satisfied: click in /usr/local/lib/python3.6/dist-packages (from geocoder) (7.1.2)\n",
            "Requirement already satisfied: six in /usr/local/lib/python3.6/dist-packages (from geocoder) (1.12.0)\n",
            "Requirement already satisfied: future in /usr/local/lib/python3.6/dist-packages (from geocoder) (0.16.0)\n",
            "Requirement already satisfied: ratelim in /usr/local/lib/python3.6/dist-packages (from geocoder) (0.1.6)\n",
            "Requirement already satisfied: certifi>=2017.4.17 in /usr/local/lib/python3.6/dist-packages (from requests->geocoder) (2020.6.20)\n",
            "Requirement already satisfied: urllib3!=1.25.0,!=1.25.1,<1.26,>=1.21.1 in /usr/local/lib/python3.6/dist-packages (from requests->geocoder) (1.24.3)\n",
            "Requirement already satisfied: idna<3,>=2.5 in /usr/local/lib/python3.6/dist-packages (from requests->geocoder) (2.9)\n",
            "Requirement already satisfied: chardet<4,>=3.0.2 in /usr/local/lib/python3.6/dist-packages (from requests->geocoder) (3.0.4)\n",
            "Requirement already satisfied: decorator in /usr/local/lib/python3.6/dist-packages (from ratelim->geocoder) (4.4.2)\n",
            "Requirement already satisfied: folium in /usr/local/lib/python3.6/dist-packages (0.8.3)\n",
            "Requirement already satisfied: numpy in /usr/local/lib/python3.6/dist-packages (from folium) (1.18.5)\n",
            "Requirement already satisfied: six in /usr/local/lib/python3.6/dist-packages (from folium) (1.12.0)\n",
            "Requirement already satisfied: jinja2 in /usr/local/lib/python3.6/dist-packages (from folium) (2.11.2)\n",
            "Requirement already satisfied: requests in /usr/local/lib/python3.6/dist-packages (from folium) (2.23.0)\n",
            "Requirement already satisfied: branca>=0.3.0 in /usr/local/lib/python3.6/dist-packages (from folium) (0.4.1)\n",
            "Requirement already satisfied: MarkupSafe>=0.23 in /usr/local/lib/python3.6/dist-packages (from jinja2->folium) (1.1.1)\n",
            "Requirement already satisfied: certifi>=2017.4.17 in /usr/local/lib/python3.6/dist-packages (from requests->folium) (2020.6.20)\n",
            "Requirement already satisfied: chardet<4,>=3.0.2 in /usr/local/lib/python3.6/dist-packages (from requests->folium) (3.0.4)\n",
            "Requirement already satisfied: idna<3,>=2.5 in /usr/local/lib/python3.6/dist-packages (from requests->folium) (2.9)\n",
            "Requirement already satisfied: urllib3!=1.25.0,!=1.25.1,<1.26,>=1.21.1 in /usr/local/lib/python3.6/dist-packages (from requests->folium) (1.24.3)\n"
          ],
          "name": "stdout"
        }
      ]
    },
    {
      "cell_type": "markdown",
      "metadata": {
        "id": "jgxHXxkDZ03B",
        "colab_type": "text"
      },
      "source": [
        "### import useful libraries"
      ]
    },
    {
      "cell_type": "code",
      "metadata": {
        "id": "-eG10_5INQJz",
        "colab_type": "code",
        "colab": {}
      },
      "source": [
        "import numpy as np\n",
        "import pandas as pd\n",
        "import requests\n",
        "import re\n",
        "import os\n",
        "from bs4 import BeautifulSoup\n",
        "import geocoder\n",
        "from getpass import getpass\n",
        "import folium"
      ],
      "execution_count": 11,
      "outputs": []
    },
    {
      "cell_type": "markdown",
      "metadata": {
        "id": "Rgev9EACZ8N2",
        "colab_type": "text"
      },
      "source": [
        "### start scrapping the wikipedia page for neighborhoods of Toronto"
      ]
    },
    {
      "cell_type": "code",
      "metadata": {
        "id": "loIxCbEuYovy",
        "colab_type": "code",
        "colab": {}
      },
      "source": [
        "url = 'https://en.wikipedia.org/wiki/List_of_postal_codes_of_Canada:_M'\n",
        "page = requests.get(url, allow_redirects=True)\n",
        "soup = BeautifulSoup(page.content, 'html.parser')"
      ],
      "execution_count": 3,
      "outputs": []
    },
    {
      "cell_type": "code",
      "metadata": {
        "id": "KCSsA1q4u7eD",
        "colab_type": "code",
        "colab": {
          "base_uri": "https://localhost:8080/",
          "height": 359
        },
        "outputId": "8946bc29-51f8-4c81-ea6e-400db7cc4d4e"
      },
      "source": [
        "postalcodes_tab = soup.find('table',class_='wikitable')\n",
        "\n",
        "neighb_df = pd.DataFrame(columns=['PostalCode','Borough','Neighborhood'])\n",
        "i=0\n",
        "\n",
        "for neighborhood_tr in postalcodes_tab.find_all('tr'):\n",
        "  if (len(neighborhood_tr.find_all('td')) == 3) :\n",
        "    neighb_row = [td.text.rstrip() for td in neighborhood_tr.find_all('td')]\n",
        "    if (neighb_row[1] != 'Not assigned') :\n",
        "      neighb_df.loc[i] = neighb_row\n",
        "      i+=1\n",
        "\n",
        "neighb_df.head(10)\n"
      ],
      "execution_count": 4,
      "outputs": [
        {
          "output_type": "execute_result",
          "data": {
            "text/html": [
              "<div>\n",
              "<style scoped>\n",
              "    .dataframe tbody tr th:only-of-type {\n",
              "        vertical-align: middle;\n",
              "    }\n",
              "\n",
              "    .dataframe tbody tr th {\n",
              "        vertical-align: top;\n",
              "    }\n",
              "\n",
              "    .dataframe thead th {\n",
              "        text-align: right;\n",
              "    }\n",
              "</style>\n",
              "<table border=\"1\" class=\"dataframe\">\n",
              "  <thead>\n",
              "    <tr style=\"text-align: right;\">\n",
              "      <th></th>\n",
              "      <th>PostalCode</th>\n",
              "      <th>Borough</th>\n",
              "      <th>Neighborhood</th>\n",
              "    </tr>\n",
              "  </thead>\n",
              "  <tbody>\n",
              "    <tr>\n",
              "      <th>0</th>\n",
              "      <td>M3A</td>\n",
              "      <td>North York</td>\n",
              "      <td>Parkwoods</td>\n",
              "    </tr>\n",
              "    <tr>\n",
              "      <th>1</th>\n",
              "      <td>M4A</td>\n",
              "      <td>North York</td>\n",
              "      <td>Victoria Village</td>\n",
              "    </tr>\n",
              "    <tr>\n",
              "      <th>2</th>\n",
              "      <td>M5A</td>\n",
              "      <td>Downtown Toronto</td>\n",
              "      <td>Regent Park, Harbourfront</td>\n",
              "    </tr>\n",
              "    <tr>\n",
              "      <th>3</th>\n",
              "      <td>M6A</td>\n",
              "      <td>North York</td>\n",
              "      <td>Lawrence Manor, Lawrence Heights</td>\n",
              "    </tr>\n",
              "    <tr>\n",
              "      <th>4</th>\n",
              "      <td>M7A</td>\n",
              "      <td>Downtown Toronto</td>\n",
              "      <td>Queen's Park, Ontario Provincial Government</td>\n",
              "    </tr>\n",
              "    <tr>\n",
              "      <th>5</th>\n",
              "      <td>M9A</td>\n",
              "      <td>Etobicoke</td>\n",
              "      <td>Islington Avenue, Humber Valley Village</td>\n",
              "    </tr>\n",
              "    <tr>\n",
              "      <th>6</th>\n",
              "      <td>M1B</td>\n",
              "      <td>Scarborough</td>\n",
              "      <td>Malvern, Rouge</td>\n",
              "    </tr>\n",
              "    <tr>\n",
              "      <th>7</th>\n",
              "      <td>M3B</td>\n",
              "      <td>North York</td>\n",
              "      <td>Don Mills</td>\n",
              "    </tr>\n",
              "    <tr>\n",
              "      <th>8</th>\n",
              "      <td>M4B</td>\n",
              "      <td>East York</td>\n",
              "      <td>Parkview Hill, Woodbine Gardens</td>\n",
              "    </tr>\n",
              "    <tr>\n",
              "      <th>9</th>\n",
              "      <td>M5B</td>\n",
              "      <td>Downtown Toronto</td>\n",
              "      <td>Garden District, Ryerson</td>\n",
              "    </tr>\n",
              "  </tbody>\n",
              "</table>\n",
              "</div>"
            ],
            "text/plain": [
              "  PostalCode           Borough                                 Neighborhood\n",
              "0        M3A        North York                                    Parkwoods\n",
              "1        M4A        North York                             Victoria Village\n",
              "2        M5A  Downtown Toronto                    Regent Park, Harbourfront\n",
              "3        M6A        North York             Lawrence Manor, Lawrence Heights\n",
              "4        M7A  Downtown Toronto  Queen's Park, Ontario Provincial Government\n",
              "5        M9A         Etobicoke      Islington Avenue, Humber Valley Village\n",
              "6        M1B       Scarborough                               Malvern, Rouge\n",
              "7        M3B        North York                                    Don Mills\n",
              "8        M4B         East York              Parkview Hill, Woodbine Gardens\n",
              "9        M5B  Downtown Toronto                     Garden District, Ryerson"
            ]
          },
          "metadata": {
            "tags": []
          },
          "execution_count": 4
        }
      ]
    },
    {
      "cell_type": "code",
      "metadata": {
        "id": "0mwOYzkf0XF-",
        "colab_type": "code",
        "colab": {
          "base_uri": "https://localhost:8080/",
          "height": 34
        },
        "outputId": "aaec92ee-c29c-42dc-c4c6-76b764f9db9c"
      },
      "source": [
        "neighb_df.shape\n"
      ],
      "execution_count": 5,
      "outputs": [
        {
          "output_type": "execute_result",
          "data": {
            "text/plain": [
              "(103, 3)"
            ]
          },
          "metadata": {
            "tags": []
          },
          "execution_count": 5
        }
      ]
    },
    {
      "cell_type": "code",
      "metadata": {
        "id": "G1rmWpKXrygr",
        "colab_type": "code",
        "colab": {
          "base_uri": "https://localhost:8080/",
          "height": 34
        },
        "outputId": "ed300930-093e-4058-c20b-7a87df12f15e"
      },
      "source": [
        "opencage_api_key = getpass(\"what is your opencage api key : \")\n",
        "#print (geocoder.opencage('North York, Victoria Village, CA', key=openkage_api_key).latlng)\n",
        "#print (geocoder.osm('North York, Victoria Village, CA').latlng)"
      ],
      "execution_count": 6,
      "outputs": [
        {
          "output_type": "stream",
          "text": [
            "what is your opencage api key : ··········\n"
          ],
          "name": "stdout"
        }
      ]
    },
    {
      "cell_type": "markdown",
      "metadata": {
        "id": "ukkCIR65cOAr",
        "colab_type": "text"
      },
      "source": [
        "### add geolocalisation data to the frame"
      ]
    },
    {
      "cell_type": "code",
      "metadata": {
        "id": "2UpbYI0oef1t",
        "colab_type": "code",
        "colab": {
          "base_uri": "https://localhost:8080/",
          "height": 419
        },
        "outputId": "8f95f131-3983-4f23-f507-7af488a20ac1"
      },
      "source": [
        "neighb_df['adress'] = neighb_df['PostalCode'] + ', ' + neighb_df['Borough'] +', ' + neighb_df['Neighborhood']+', CA'\n",
        "#\n",
        "neighb_df['lat'] = neighb_df['PostalCode']\n",
        "neighb_df['lng'] = neighb_df['PostalCode']\n",
        "\n",
        "#neighb_df_tst = neighb_df.head(3)\n",
        "\n",
        "#neighb_df_tst['coordinates']=neighb_df_tst['adress'].apply(geocoder.osm).apply(lambda x: x.latlng if x != None else None)\n",
        "\n",
        "for index, row in neighb_df.iterrows():\n",
        "  latlng = geocoder.opencage(row['adress'], key=opencage_api_key).latlng\n",
        "  #print (row['adress'], geocoder.opencage(repr(row['adress']), key=opencage_api_key).latlng)\n",
        "  if (latlng is not None) :\n",
        "    row['lat'], row['lng'] = latlng[0], latlng[1]\n",
        "\n",
        "neighb_df\n",
        "#neighb_df['lat'] = geocoder.osm(neighb_df['adress']).lat\n",
        "#geocoder.osm('M3A, Parkwoods, North York, CA').latlng"
      ],
      "execution_count": 7,
      "outputs": [
        {
          "output_type": "execute_result",
          "data": {
            "text/html": [
              "<div>\n",
              "<style scoped>\n",
              "    .dataframe tbody tr th:only-of-type {\n",
              "        vertical-align: middle;\n",
              "    }\n",
              "\n",
              "    .dataframe tbody tr th {\n",
              "        vertical-align: top;\n",
              "    }\n",
              "\n",
              "    .dataframe thead th {\n",
              "        text-align: right;\n",
              "    }\n",
              "</style>\n",
              "<table border=\"1\" class=\"dataframe\">\n",
              "  <thead>\n",
              "    <tr style=\"text-align: right;\">\n",
              "      <th></th>\n",
              "      <th>PostalCode</th>\n",
              "      <th>Borough</th>\n",
              "      <th>Neighborhood</th>\n",
              "      <th>adress</th>\n",
              "      <th>lat</th>\n",
              "      <th>lng</th>\n",
              "    </tr>\n",
              "  </thead>\n",
              "  <tbody>\n",
              "    <tr>\n",
              "      <th>0</th>\n",
              "      <td>M3A</td>\n",
              "      <td>North York</td>\n",
              "      <td>Parkwoods</td>\n",
              "      <td>M3A, North York, Parkwoods, CA</td>\n",
              "      <td>36.9356</td>\n",
              "      <td>-120.047</td>\n",
              "    </tr>\n",
              "    <tr>\n",
              "      <th>1</th>\n",
              "      <td>M4A</td>\n",
              "      <td>North York</td>\n",
              "      <td>Victoria Village</td>\n",
              "      <td>M4A, North York, Victoria Village, CA</td>\n",
              "      <td>34.5213</td>\n",
              "      <td>-117.397</td>\n",
              "    </tr>\n",
              "    <tr>\n",
              "      <th>2</th>\n",
              "      <td>M5A</td>\n",
              "      <td>Downtown Toronto</td>\n",
              "      <td>Regent Park, Harbourfront</td>\n",
              "      <td>M5A, Downtown Toronto, Regent Park, Harbourfro...</td>\n",
              "      <td>43.6388</td>\n",
              "      <td>-79.383</td>\n",
              "    </tr>\n",
              "    <tr>\n",
              "      <th>3</th>\n",
              "      <td>M6A</td>\n",
              "      <td>North York</td>\n",
              "      <td>Lawrence Manor, Lawrence Heights</td>\n",
              "      <td>M6A, North York, Lawrence Manor, Lawrence Heig...</td>\n",
              "      <td>43.7208</td>\n",
              "      <td>-79.4456</td>\n",
              "    </tr>\n",
              "    <tr>\n",
              "      <th>4</th>\n",
              "      <td>M7A</td>\n",
              "      <td>Downtown Toronto</td>\n",
              "      <td>Queen's Park, Ontario Provincial Government</td>\n",
              "      <td>M7A, Downtown Toronto, Queen's Park, Ontario P...</td>\n",
              "      <td>34.059</td>\n",
              "      <td>-117.651</td>\n",
              "    </tr>\n",
              "    <tr>\n",
              "      <th>...</th>\n",
              "      <td>...</td>\n",
              "      <td>...</td>\n",
              "      <td>...</td>\n",
              "      <td>...</td>\n",
              "      <td>...</td>\n",
              "      <td>...</td>\n",
              "    </tr>\n",
              "    <tr>\n",
              "      <th>98</th>\n",
              "      <td>M8X</td>\n",
              "      <td>Etobicoke</td>\n",
              "      <td>The Kingsway, Montgomery Road, Old Mill North</td>\n",
              "      <td>M8X, Etobicoke, The Kingsway, Montgomery Road,...</td>\n",
              "      <td>36.1014</td>\n",
              "      <td>-118.848</td>\n",
              "    </tr>\n",
              "    <tr>\n",
              "      <th>99</th>\n",
              "      <td>M4Y</td>\n",
              "      <td>Downtown Toronto</td>\n",
              "      <td>Church and Wellesley</td>\n",
              "      <td>M4Y, Downtown Toronto, Church and Wellesley, CA</td>\n",
              "      <td>43.5501</td>\n",
              "      <td>-80.7164</td>\n",
              "    </tr>\n",
              "    <tr>\n",
              "      <th>100</th>\n",
              "      <td>M7Y</td>\n",
              "      <td>East Toronto</td>\n",
              "      <td>Business reply mail Processing Centre, South C...</td>\n",
              "      <td>M7Y, East Toronto, Business reply mail Process...</td>\n",
              "      <td>40.6893</td>\n",
              "      <td>-122.374</td>\n",
              "    </tr>\n",
              "    <tr>\n",
              "      <th>101</th>\n",
              "      <td>M8Y</td>\n",
              "      <td>Etobicoke</td>\n",
              "      <td>Old Mill South, King's Mill Park, Sunnylea, Hu...</td>\n",
              "      <td>M8Y, Etobicoke, Old Mill South, King's Mill Pa...</td>\n",
              "      <td>M8Y</td>\n",
              "      <td>M8Y</td>\n",
              "    </tr>\n",
              "    <tr>\n",
              "      <th>102</th>\n",
              "      <td>M8Z</td>\n",
              "      <td>Etobicoke</td>\n",
              "      <td>Mimico NW, The Queensway West, South of Bloor,...</td>\n",
              "      <td>M8Z, Etobicoke, Mimico NW, The Queensway West,...</td>\n",
              "      <td>50.3667</td>\n",
              "      <td>-105.551</td>\n",
              "    </tr>\n",
              "  </tbody>\n",
              "</table>\n",
              "<p>103 rows × 6 columns</p>\n",
              "</div>"
            ],
            "text/plain": [
              "    PostalCode           Borough  ...      lat      lng\n",
              "0          M3A        North York  ...  36.9356 -120.047\n",
              "1          M4A        North York  ...  34.5213 -117.397\n",
              "2          M5A  Downtown Toronto  ...  43.6388  -79.383\n",
              "3          M6A        North York  ...  43.7208 -79.4456\n",
              "4          M7A  Downtown Toronto  ...   34.059 -117.651\n",
              "..         ...               ...  ...      ...      ...\n",
              "98         M8X         Etobicoke  ...  36.1014 -118.848\n",
              "99         M4Y  Downtown Toronto  ...  43.5501 -80.7164\n",
              "100        M7Y      East Toronto  ...  40.6893 -122.374\n",
              "101        M8Y         Etobicoke  ...      M8Y      M8Y\n",
              "102        M8Z         Etobicoke  ...  50.3667 -105.551\n",
              "\n",
              "[103 rows x 6 columns]"
            ]
          },
          "metadata": {
            "tags": []
          },
          "execution_count": 7
        }
      ]
    },
    {
      "cell_type": "code",
      "metadata": {
        "id": "RxE_vKEBhw5J",
        "colab_type": "code",
        "colab": {
          "base_uri": "https://localhost:8080/",
          "height": 34
        },
        "outputId": "35bb1080-c226-4b24-b81a-cec14036489d"
      },
      "source": [
        "address = 'Toronto, CA'\n",
        "\n",
        "toronto_latlng = geocoder.opencage(address, key=opencage_api_key).latlng\n",
        "\n",
        "print('The geograpical coordinate of Toronto are {}, {}.'.format(toronto_latlng[0], toronto_latlng[1]))"
      ],
      "execution_count": 9,
      "outputs": [
        {
          "output_type": "stream",
          "text": [
            "The geograpical coordinate of Toronto are 43.6534817, -79.3839347.\n"
          ],
          "name": "stdout"
        }
      ]
    },
    {
      "cell_type": "code",
      "metadata": {
        "id": "HGwx9dGuwkIO",
        "colab_type": "code",
        "colab": {}
      },
      "source": [
        "condition = neighb_df['Borough'].str.contains('Toronto')\n",
        "\n",
        "neighb_toronto_df = neighb_df[condition]"
      ],
      "execution_count": 23,
      "outputs": []
    },
    {
      "cell_type": "code",
      "metadata": {
        "id": "itBDIxV_h6yj",
        "colab_type": "code",
        "colab": {
          "base_uri": "https://localhost:8080/",
          "height": 1000
        },
        "outputId": "9a4d29c1-b39b-4bed-a8ba-6e450fb27905"
      },
      "source": [
        "# create map of New York using latitude and longitude values\n",
        "map_toronto = folium.Map(location=[toronto_latlng[0], toronto_latlng[1]], zoom_start=10)\n",
        "\n",
        "# add markers to map\n",
        "for lat, lng, borough, neighborhood in zip(neighb_toronto_df['lat'], neighb_toronto_df['lng'], neighb_toronto_df['Borough'], neighb_toronto_df['Neighborhood']):\n",
        "    label = '{}, {}'.format(neighborhood, borough)\n",
        "    label = folium.Popup(label, parse_html=True)\n",
        "    folium.CircleMarker(\n",
        "        [lat, lng],\n",
        "        radius=5,\n",
        "        popup=label,\n",
        "        color='blue',\n",
        "        fill=True,\n",
        "        fill_color='#3186cc',\n",
        "        fill_opacity=0.7,\n",
        "        parse_html=False).add_to(map_toronto)  \n",
        "    \n",
        "map_toronto"
      ],
      "execution_count": 24,
      "outputs": [
        {
          "output_type": "execute_result",
          "data": {
            "text/html": [
              "<div style=\"width:100%;\"><div style=\"position:relative;width:100%;height:0;padding-bottom:60%;\"><span style=\"color:#565656\">Make this Notebook Trusted to load map: File -> Trust Notebook</span><iframe src=\"about:blank\" style=\"position:absolute;width:100%;height:100%;left:0;top:0;border:none !important;\" data-html=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 onload=\"this.contentDocument.open();this.contentDocument.write(atob(this.getAttribute('data-html')));this.contentDocument.close();\" allowfullscreen webkitallowfullscreen mozallowfullscreen></iframe></div></div>"
            ],
            "text/plain": [
              "<folium.folium.Map at 0x7f9ce2f48e80>"
            ]
          },
          "metadata": {
            "tags": []
          },
          "execution_count": 24
        }
      ]
    },
    {
      "cell_type": "code",
      "metadata": {
        "id": "aT0OEMUKvweJ",
        "colab_type": "code",
        "colab": {}
      },
      "source": [
        ""
      ],
      "execution_count": null,
      "outputs": []
    }
  ]
}